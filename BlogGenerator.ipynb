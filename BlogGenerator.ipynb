{
 "cells": [
  {
   "cell_type": "markdown",
   "id": "vocational-duplicate",
   "metadata": {},
   "source": [
    "###### Install and Import dependecies"
   ]
  },
  {
   "cell_type": "code",
   "execution_count": 1,
   "id": "scientific-journal",
   "metadata": {},
   "outputs": [
    {
     "name": "stdout",
     "output_type": "stream",
     "text": [
      "Requirement already satisfied: transformers in /Users/firushanov/opt/anaconda3/lib/python3.8/site-packages (4.3.2)\n",
      "Requirement already satisfied: packaging in /Users/firushanov/opt/anaconda3/lib/python3.8/site-packages (from transformers) (20.9)\n",
      "Requirement already satisfied: numpy>=1.17 in /Users/firushanov/opt/anaconda3/lib/python3.8/site-packages (from transformers) (1.19.2)\n",
      "Requirement already satisfied: regex!=2019.12.17 in /Users/firushanov/opt/anaconda3/lib/python3.8/site-packages (from transformers) (2020.11.13)\n",
      "Requirement already satisfied: sacremoses in /Users/firushanov/opt/anaconda3/lib/python3.8/site-packages (from transformers) (0.0.43)\n",
      "Requirement already satisfied: tqdm>=4.27 in /Users/firushanov/opt/anaconda3/lib/python3.8/site-packages (from transformers) (4.56.0)\n",
      "Requirement already satisfied: tokenizers<0.11,>=0.10.1 in /Users/firushanov/opt/anaconda3/lib/python3.8/site-packages (from transformers) (0.10.1)\n",
      "Requirement already satisfied: filelock in /Users/firushanov/opt/anaconda3/lib/python3.8/site-packages (from transformers) (3.0.12)\n",
      "Requirement already satisfied: requests in /Users/firushanov/opt/anaconda3/lib/python3.8/site-packages (from transformers) (2.25.1)\n",
      "Requirement already satisfied: pyparsing>=2.0.2 in /Users/firushanov/opt/anaconda3/lib/python3.8/site-packages (from packaging->transformers) (2.4.7)\n",
      "Requirement already satisfied: chardet<5,>=3.0.2 in /Users/firushanov/opt/anaconda3/lib/python3.8/site-packages (from requests->transformers) (4.0.0)\n",
      "Requirement already satisfied: urllib3<1.27,>=1.21.1 in /Users/firushanov/opt/anaconda3/lib/python3.8/site-packages (from requests->transformers) (1.26.3)\n",
      "Requirement already satisfied: idna<3,>=2.5 in /Users/firushanov/opt/anaconda3/lib/python3.8/site-packages (from requests->transformers) (2.10)\n",
      "Requirement already satisfied: certifi>=2017.4.17 in /Users/firushanov/opt/anaconda3/lib/python3.8/site-packages (from requests->transformers) (2020.12.5)\n",
      "Requirement already satisfied: joblib in /Users/firushanov/opt/anaconda3/lib/python3.8/site-packages (from sacremoses->transformers) (1.0.0)\n",
      "Requirement already satisfied: six in /Users/firushanov/opt/anaconda3/lib/python3.8/site-packages (from sacremoses->transformers) (1.15.0)\n",
      "Requirement already satisfied: click in /Users/firushanov/opt/anaconda3/lib/python3.8/site-packages (from sacremoses->transformers) (7.1.2)\n"
     ]
    }
   ],
   "source": [
    "!pip install transformers"
   ]
  },
  {
   "cell_type": "markdown",
   "id": "physical-geography",
   "metadata": {},
   "source": [
    "###### Load Model"
   ]
  },
  {
   "cell_type": "code",
   "execution_count": 2,
   "id": "supported-short",
   "metadata": {},
   "outputs": [],
   "source": [
    "# GPT2Tokenizer takes an input that transforms word to an effective number. \n",
    "# Then it passes to GPT2LMHeadelModel. "
   ]
  },
  {
   "cell_type": "code",
   "execution_count": 3,
   "id": "pressed-ministry",
   "metadata": {},
   "outputs": [],
   "source": [
    "from transformers import GPT2LMHeadModel, GPT2Tokenizer"
   ]
  },
  {
   "cell_type": "code",
   "execution_count": 4,
   "id": "embedded-stopping",
   "metadata": {},
   "outputs": [
    {
     "data": {
      "application/vnd.jupyter.widget-view+json": {
       "model_id": "486b1faa50714ffa9bac0f03e6779ff2",
       "version_major": 2,
       "version_minor": 0
      },
      "text/plain": [
       "Downloading:   0%|          | 0.00/764 [00:00<?, ?B/s]"
      ]
     },
     "metadata": {},
     "output_type": "display_data"
    },
    {
     "data": {
      "application/vnd.jupyter.widget-view+json": {
       "model_id": "11523fa5b6264959964049708e10da28",
       "version_major": 2,
       "version_minor": 0
      },
      "text/plain": [
       "Downloading:   0%|          | 0.00/3.25G [00:00<?, ?B/s]"
      ]
     },
     "metadata": {},
     "output_type": "display_data"
    }
   ],
   "source": [
    "tokenizer = GPT2Tokenizer.from_pretrained('gpt2-large')\n",
    "model = GPT2LMHeadModel.from_pretrained(\"gpt2-large\", pad_token_id=tokenizer.eos_token_id)"
   ]
  },
  {
   "cell_type": "markdown",
   "id": "operating-crystal",
   "metadata": {},
   "source": [
    "###### Tokenize Sentence"
   ]
  },
  {
   "cell_type": "code",
   "execution_count": 5,
   "id": "civil-modification",
   "metadata": {},
   "outputs": [
    {
     "data": {
      "text/plain": [
       "'<|endoftext|>'"
      ]
     },
     "execution_count": 5,
     "metadata": {},
     "output_type": "execute_result"
    }
   ],
   "source": [
    "tokenizer.decode(tokenizer.eos_token_id)"
   ]
  },
  {
   "cell_type": "code",
   "execution_count": 12,
   "id": "following-spanish",
   "metadata": {},
   "outputs": [],
   "source": [
    "sentence = 'I enjoy coding in React'\n",
    "input_ids = tokenizer.encode(sentence, return_tensors='pt')"
   ]
  },
  {
   "cell_type": "code",
   "execution_count": 13,
   "id": "standard-measure",
   "metadata": {},
   "outputs": [
    {
     "data": {
      "text/plain": [
       "'I'"
      ]
     },
     "execution_count": 13,
     "metadata": {},
     "output_type": "execute_result"
    }
   ],
   "source": [
    "tokenizer.decode(input_ids[0][0])"
   ]
  },
  {
   "cell_type": "code",
   "execution_count": 14,
   "id": "express-treasury",
   "metadata": {},
   "outputs": [
    {
     "data": {
      "text/plain": [
       "' in'"
      ]
     },
     "execution_count": 14,
     "metadata": {},
     "output_type": "execute_result"
    }
   ],
   "source": [
    "tokenizer.decode(input_ids[0][3])"
   ]
  },
  {
   "cell_type": "markdown",
   "id": "circular-commitment",
   "metadata": {},
   "source": [
    "##### Generate and Decode Text"
   ]
  },
  {
   "cell_type": "code",
   "execution_count": 15,
   "id": "spectacular-saint",
   "metadata": {},
   "outputs": [],
   "source": [
    "output = model.generate(input_ids, max_length = 100, num_beams=5, no_repeat_ngram_size=2, early_stopping=True)"
   ]
  },
  {
   "cell_type": "code",
   "execution_count": 16,
   "id": "younger-rotation",
   "metadata": {},
   "outputs": [
    {
     "data": {
      "text/plain": [
       "tensor([[   40,  2883, 19617,   287, 21492,    11,   475,   314,   836,   470,\n",
       "           892,   340,   338,   262,  1266,   835,   284,  2193,   340,    13,\n",
       "           198,   198,    40,  1053,   587,  1262, 21492,   329,   257,  1178,\n",
       "          1933,   783,    11,   290,   314,  1053,  1043,   340,   284,   307,\n",
       "           257,  1049,  4673,  2891,    13,   632,   338,  2562,   284,   651,\n",
       "          2067,   351,   290,   340,   468,   257,  1256,   286,  1049,  3033,\n",
       "            13,  2102,    11,   612,   389,   617,  1243,   345,   815,   760,\n",
       "           546, 21492,   878,   345,   923,  1262,   340,   287,   534,  4493,\n",
       "            13,  3423,   389,   262,  1353,   642,  1243,   314,  4601,   314,\n",
       "          2993,   878,  3599,   284,   779, 21492,   287,   616,  4493,    25]])"
      ]
     },
     "execution_count": 16,
     "metadata": {},
     "output_type": "execute_result"
    }
   ],
   "source": [
    "output"
   ]
  },
  {
   "cell_type": "code",
   "execution_count": 17,
   "id": "exposed-edmonton",
   "metadata": {},
   "outputs": [
    {
     "data": {
      "text/plain": [
       "\"I enjoy coding in React, but I don't think it's the best way to learn it.\\n\\nI've been using React for a few months now, and I've found it to be a great learning tool. It's easy to get started with and it has a lot of great features. However, there are some things you should know about React before you start using it in your projects. Here are the top 5 things I wish I knew before starting to use React in my projects:\""
      ]
     },
     "execution_count": 17,
     "metadata": {},
     "output_type": "execute_result"
    }
   ],
   "source": [
    "tokenizer.decode(output[0], skip_special_tokens=True)"
   ]
  },
  {
   "cell_type": "markdown",
   "id": "acceptable-neighborhood",
   "metadata": {},
   "source": [
    "###### Output the Result"
   ]
  },
  {
   "cell_type": "code",
   "execution_count": 18,
   "id": "selective-johnson",
   "metadata": {},
   "outputs": [],
   "source": [
    "text = tokenizer.decode(output[0], skip_special_tokens=True)"
   ]
  },
  {
   "cell_type": "code",
   "execution_count": 19,
   "id": "resident-tunisia",
   "metadata": {},
   "outputs": [],
   "source": [
    "with open('blogpostReact.txt', 'w') as f:\n",
    "    f.write(text)"
   ]
  }
 ],
 "metadata": {
  "kernelspec": {
   "display_name": "Python 3",
   "language": "python",
   "name": "python3"
  },
  "language_info": {
   "codemirror_mode": {
    "name": "ipython",
    "version": 3
   },
   "file_extension": ".py",
   "mimetype": "text/x-python",
   "name": "python",
   "nbconvert_exporter": "python",
   "pygments_lexer": "ipython3",
   "version": "3.8.5"
  }
 },
 "nbformat": 4,
 "nbformat_minor": 5
}
