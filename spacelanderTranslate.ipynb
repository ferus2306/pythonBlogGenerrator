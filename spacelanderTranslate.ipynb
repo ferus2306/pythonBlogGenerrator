{
 "cells": [
  {
   "cell_type": "code",
   "execution_count": 3,
   "id": "clear-mainland",
   "metadata": {},
   "outputs": [],
   "source": [
    "from transformers import pipeline\n",
    "translator = pipeline(\"translation_en_to_de\")\n"
   ]
  },
  {
   "cell_type": "code",
   "execution_count": 4,
   "id": "above-wholesale",
   "metadata": {},
   "outputs": [
    {
     "name": "stdout",
     "output_type": "stream",
     "text": [
      "[{'translation_text': 'Mein Name ist Firus'}]\n"
     ]
    }
   ],
   "source": [
    "print(translator(\"My name is Firus\", max_length=40))"
   ]
  },
  {
   "cell_type": "code",
   "execution_count": null,
   "id": "roman-collection",
   "metadata": {},
   "outputs": [],
   "source": []
  }
 ],
 "metadata": {
  "kernelspec": {
   "display_name": "Python 3",
   "language": "python",
   "name": "python3"
  },
  "language_info": {
   "codemirror_mode": {
    "name": "ipython",
    "version": 3
   },
   "file_extension": ".py",
   "mimetype": "text/x-python",
   "name": "python",
   "nbconvert_exporter": "python",
   "pygments_lexer": "ipython3",
   "version": "3.8.5"
  }
 },
 "nbformat": 4,
 "nbformat_minor": 5
}
