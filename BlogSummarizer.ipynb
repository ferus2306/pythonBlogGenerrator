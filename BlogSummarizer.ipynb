{
 "cells": [
  {
   "cell_type": "markdown",
   "id": "mighty-functionality",
   "metadata": {},
   "source": [
    "### Load Summarization Pipeline"
   ]
  },
  {
   "cell_type": "code",
   "execution_count": 2,
   "id": "ambient-right",
   "metadata": {},
   "outputs": [],
   "source": [
    "from transformers import pipeline\n",
    "from bs4 import BeautifulSoup\n",
    "import requests\n"
   ]
  },
  {
   "cell_type": "markdown",
   "id": "continuous-advertiser",
   "metadata": {},
   "source": [
    "### Load Summarization Pipeline"
   ]
  },
  {
   "cell_type": "code",
   "execution_count": 3,
   "id": "fantastic-charlotte",
   "metadata": {},
   "outputs": [],
   "source": [
    "summarizer = pipeline('summarization')"
   ]
  },
  {
   "cell_type": "markdown",
   "id": "bored-northern",
   "metadata": {},
   "source": [
    "### Get Blog Post from Medium"
   ]
  },
  {
   "cell_type": "code",
   "execution_count": 56,
   "id": "native-benjamin",
   "metadata": {},
   "outputs": [],
   "source": [
    "URL = \"https://www.usnews.com/news/health-news/articles/2021-03-05/kaiser-permanente-big-player-in-state-vaccine-effort-has-had-trouble-vaccinating-own-members\"\n",
    "# URL = \"https://hackernoon.com/will-the-game-stop-with-gamestop-or-is-this-just-the-beginning-2j1x32aa\""
   ]
  },
  {
   "cell_type": "code",
   "execution_count": null,
   "id": "popular-assistant",
   "metadata": {},
   "outputs": [],
   "source": [
    "r = requests.get(URL)"
   ]
  },
  {
   "cell_type": "code",
   "execution_count": null,
   "id": "female-argentina",
   "metadata": {},
   "outputs": [],
   "source": [
    "r.text"
   ]
  },
  {
   "cell_type": "code",
   "execution_count": null,
   "id": "arabic-mississippi",
   "metadata": {},
   "outputs": [],
   "source": []
  },
  {
   "cell_type": "code",
   "execution_count": null,
   "id": "weekly-creek",
   "metadata": {},
   "outputs": [],
   "source": []
  },
  {
   "cell_type": "code",
   "execution_count": null,
   "id": "freelance-clearing",
   "metadata": {},
   "outputs": [],
   "source": [
    "# soup is a new instance of beautiful soup\n",
    "soup = BeautifulSoup(r.text, 'html.parser')\n",
    "results = soup.find_all(['h1', 'p'])\n"
   ]
  },
  {
   "cell_type": "code",
   "execution_count": null,
   "id": "derived-flood",
   "metadata": {},
   "outputs": [],
   "source": [
    "results"
   ]
  },
  {
   "cell_type": "code",
   "execution_count": null,
   "id": "sharp-boating",
   "metadata": {},
   "outputs": [],
   "source": []
  },
  {
   "cell_type": "code",
   "execution_count": null,
   "id": "stupid-marker",
   "metadata": {},
   "outputs": [],
   "source": [
    "new_list = []\n",
    "for result in results:\n",
    "    new_list.append(result.text)"
   ]
  },
  {
   "cell_type": "code",
   "execution_count": null,
   "id": "front-obligation",
   "metadata": {},
   "outputs": [],
   "source": [
    "new_list"
   ]
  },
  {
   "cell_type": "code",
   "execution_count": null,
   "id": "running-batman",
   "metadata": {},
   "outputs": [],
   "source": [
    "ARTICLE = ' '.join(text)"
   ]
  },
  {
   "cell_type": "code",
   "execution_count": null,
   "id": "given-anthropology",
   "metadata": {},
   "outputs": [],
   "source": [
    "ARTICLE"
   ]
  },
  {
   "cell_type": "markdown",
   "id": "pacific-floating",
   "metadata": {},
   "source": [
    "### Chunk Text"
   ]
  },
  {
   "cell_type": "code",
   "execution_count": null,
   "id": "japanese-group",
   "metadata": {},
   "outputs": [],
   "source": [
    "max_chunk = 500"
   ]
  },
  {
   "cell_type": "code",
   "execution_count": null,
   "id": "homeless-swiss",
   "metadata": {},
   "outputs": [],
   "source": [
    "\n",
    "ARTICLE = ARTICLE.replace('.', '.<eos>')\n",
    "ARTICLE = ARTICLE.replace('?', '?<eos>')\n",
    "ARTICLE = ARTICLE.replace('!', '!<eos>')"
   ]
  },
  {
   "cell_type": "code",
   "execution_count": 32,
   "id": "comic-withdrawal",
   "metadata": {},
   "outputs": [
    {
     "data": {
      "text/plain": [
       "\"React Clean Code Clean code is more than just working code.<eos><eos> Clean code is easy to read, simple to understand, and neatly organized.<eos><eos> In this article, we’ll look at eight ways we can write cleaner React code.<eos><eos> When going through these suggestions, it’s important to remember that’s exactly what they are: suggestions.<eos><eos> If you disagree with any of them, that’s completely fine.<eos><eos> However, these are practices that I’ve found helpful in writing my own React code.<eos><eos> Let’s dive in!<eos><eos> 1.<eos><eos> Conditional Rendering Only for One Condition If you need to conditionally render something when a condition is true and not render anything when a condition is false, don’t use a ternary operator.<eos><eos> Use the && operator instead.<eos><eos> Bad example: Good example: 2.<eos><eos> Conditional Rendering on Either Condition If you need to conditionally render one thing when a condition is true and render a different thing when the condition is false, use a ternary operator.<eos><eos> Bad example: Good example: 3.<eos><eos> Boolean Props A truthy prop can be provided to a component with just the prop name without a value like this: myTruthyProp.<eos><eos> Writing it like myTruthyProp={true} is unnecessary.<eos><eos> Bad example: Good example: 4.<eos><eos> String Props A string prop value can be provided in double-quotes without the use of curly braces or backticks.<eos><eos> Bad example: Good example: 5.<eos><eos> Event Handler Functions If an event handler only takes a single argument for the Event object, you can just provide the function as the event handler like this: onChange={handleChange}.<eos><eos> You don't need to wrap the function in an anonymous function like this: onChange={e => handleChange(e)}.<eos><eos> Bad example: Good example: 6.<eos><eos> Passing Components As Props When passing a component as a prop to another component, you don’t need to wrap this passed component in a function if the component does not accept any props.<eos><eos> Bad example: Good example: 7.<eos><eos> Undefined Props Undefined props are excluded, so don’t worry about providing an undefined fallback if it's OK for the prop to be undefined.<eos><eos> Bad example: Good example: 8.<eos><eos> Setting State That Relies on the Previous State Always set state as a function of the previous state if the new state relies on the previous state.<eos><eos> React state updates can be batched, and not writing your updates this way can lead to unexpected results.<eos><eos> Bad example: Good example: Honorable Mentions The following practices are not React-specific but rather good practices for writing clean code in JavaScript (or any programming language, for that matter).<eos><eos> Happy coding!<eos><eos> Advice for programmers.<eos><eos> 1.<eos><eos>1K  14  A weekly newsletter sent every Friday with the best articles we published that week.<eos><eos> Code tutorials, advice, career opportunities, and more!<eos><eos>\\xa0Take a look.<eos><eos>  By signing up, you will create a Medium account if you don’t already have one.<eos><eos> Review our Privacy Policy for more information about our privacy practices.<eos><eos> Check your inboxMedium sent you an email at  to complete your subscription.<eos><eos> Thanks to Anupam Chugh.<eos><eos>\\xa0 1.<eos><eos>1K\\xa0claps 1.<eos><eos>1K\\xa0claps 14 responses Written by Senior software engineer.<eos><eos> Continuous learner.<eos><eos> Educator.<eos><eos> http://tylerhawkins.<eos><eos>info Advice for programmers.<eos><eos> Written by Senior software engineer.<eos><eos> Continuous learner.<eos><eos> Educator.<eos><eos> http://tylerhawkins.<eos><eos>info Advice for programmers.<eos><eos> Medium is an open platform where 170 million readers come to find insightful and dynamic thinking.<eos><eos> Here, expert and undiscovered voices alike dive into the heart of any topic and bring new ideas to the surface.<eos><eos> Learn more Follow the writers, publications, and topics that matter to you, and you’ll see them on your homepage and in your inbox.<eos><eos> Explore If you have a story to tell, knowledge to share, or a perspective to offer — welcome home.<eos><eos> It’s easy and free to post your thinking on any topic.<eos><eos> Write on Medium About Help Legal Get the Medium app\""
      ]
     },
     "execution_count": 32,
     "metadata": {},
     "output_type": "execute_result"
    }
   ],
   "source": [
    "ARTICLE"
   ]
  },
  {
   "cell_type": "code",
   "execution_count": 33,
   "id": "frequent-builder",
   "metadata": {},
   "outputs": [],
   "source": [
    "sentences = ARTICLE.split('<eos>')"
   ]
  },
  {
   "cell_type": "code",
   "execution_count": 41,
   "id": "economic-active",
   "metadata": {},
   "outputs": [
    {
     "data": {
      "text/plain": [
       "['React Clean Code Clean code is more than just working code.',\n",
       " '',\n",
       " ' Clean code is easy to read, simple to understand, and neatly organized.',\n",
       " '',\n",
       " ' In this article, we’ll look at eight ways we can write cleaner React code.',\n",
       " '',\n",
       " ' When going through these suggestions, it’s important to remember that’s exactly what they are: suggestions.',\n",
       " '',\n",
       " ' If you disagree with any of them, that’s completely fine.',\n",
       " '',\n",
       " ' However, these are practices that I’ve found helpful in writing my own React code.',\n",
       " '',\n",
       " ' Let’s dive in!',\n",
       " '',\n",
       " ' 1.',\n",
       " '',\n",
       " ' Conditional Rendering Only for One Condition If you need to conditionally render something when a condition is true and not render anything when a condition is false, don’t use a ternary operator.',\n",
       " '',\n",
       " ' Use the && operator instead.',\n",
       " '',\n",
       " ' Bad example: Good example: 2.',\n",
       " '',\n",
       " ' Conditional Rendering on Either Condition If you need to conditionally render one thing when a condition is true and render a different thing when the condition is false, use a ternary operator.',\n",
       " '',\n",
       " ' Bad example: Good example: 3.',\n",
       " '',\n",
       " ' Boolean Props A truthy prop can be provided to a component with just the prop name without a value like this: myTruthyProp.',\n",
       " '',\n",
       " ' Writing it like myTruthyProp={true} is unnecessary.',\n",
       " '',\n",
       " ' Bad example: Good example: 4.',\n",
       " '',\n",
       " ' String Props A string prop value can be provided in double-quotes without the use of curly braces or backticks.',\n",
       " '',\n",
       " ' Bad example: Good example: 5.',\n",
       " '',\n",
       " ' Event Handler Functions If an event handler only takes a single argument for the Event object, you can just provide the function as the event handler like this: onChange={handleChange}.',\n",
       " '',\n",
       " \" You don't need to wrap the function in an anonymous function like this: onChange={e => handleChange(e)}.\",\n",
       " '',\n",
       " ' Bad example: Good example: 6.',\n",
       " '',\n",
       " ' Passing Components As Props When passing a component as a prop to another component, you don’t need to wrap this passed component in a function if the component does not accept any props.',\n",
       " '',\n",
       " ' Bad example: Good example: 7.',\n",
       " '',\n",
       " \" Undefined Props Undefined props are excluded, so don’t worry about providing an undefined fallback if it's OK for the prop to be undefined.\",\n",
       " '',\n",
       " ' Bad example: Good example: 8.',\n",
       " '',\n",
       " ' Setting State That Relies on the Previous State Always set state as a function of the previous state if the new state relies on the previous state.',\n",
       " '',\n",
       " ' React state updates can be batched, and not writing your updates this way can lead to unexpected results.',\n",
       " '',\n",
       " ' Bad example: Good example: Honorable Mentions The following practices are not React-specific but rather good practices for writing clean code in JavaScript (or any programming language, for that matter).',\n",
       " '',\n",
       " ' Happy coding!',\n",
       " '',\n",
       " ' Advice for programmers.',\n",
       " '',\n",
       " ' 1.',\n",
       " '',\n",
       " '1K  14  A weekly newsletter sent every Friday with the best articles we published that week.',\n",
       " '',\n",
       " ' Code tutorials, advice, career opportunities, and more!',\n",
       " '',\n",
       " '\\xa0Take a look.',\n",
       " '',\n",
       " '  By signing up, you will create a Medium account if you don’t already have one.',\n",
       " '',\n",
       " ' Review our Privacy Policy for more information about our privacy practices.',\n",
       " '',\n",
       " ' Check your inboxMedium sent you an email at  to complete your subscription.',\n",
       " '',\n",
       " ' Thanks to Anupam Chugh.',\n",
       " '',\n",
       " '\\xa0 1.',\n",
       " '',\n",
       " '1K\\xa0claps 1.',\n",
       " '',\n",
       " '1K\\xa0claps 14 responses Written by Senior software engineer.',\n",
       " '',\n",
       " ' Continuous learner.',\n",
       " '',\n",
       " ' Educator.',\n",
       " '',\n",
       " ' http://tylerhawkins.',\n",
       " '',\n",
       " 'info Advice for programmers.',\n",
       " '',\n",
       " ' Written by Senior software engineer.',\n",
       " '',\n",
       " ' Continuous learner.',\n",
       " '',\n",
       " ' Educator.',\n",
       " '',\n",
       " ' http://tylerhawkins.',\n",
       " '',\n",
       " 'info Advice for programmers.',\n",
       " '',\n",
       " ' Medium is an open platform where 170 million readers come to find insightful and dynamic thinking.',\n",
       " '',\n",
       " ' Here, expert and undiscovered voices alike dive into the heart of any topic and bring new ideas to the surface.',\n",
       " '',\n",
       " ' Learn more Follow the writers, publications, and topics that matter to you, and you’ll see them on your homepage and in your inbox.',\n",
       " '',\n",
       " ' Explore If you have a story to tell, knowledge to share, or a perspective to offer — welcome home.',\n",
       " '',\n",
       " ' It’s easy and free to post your thinking on any topic.',\n",
       " '',\n",
       " ' Write on Medium About Help Legal Get the Medium app']"
      ]
     },
     "execution_count": 41,
     "metadata": {},
     "output_type": "execute_result"
    }
   ],
   "source": [
    "sentences"
   ]
  },
  {
   "cell_type": "code",
   "execution_count": null,
   "id": "essential-graph",
   "metadata": {},
   "outputs": [],
   "source": []
  },
  {
   "cell_type": "code",
   "execution_count": null,
   "id": "diagnostic-surgeon",
   "metadata": {},
   "outputs": [],
   "source": []
  },
  {
   "cell_type": "code",
   "execution_count": 45,
   "id": "distinct-sussex",
   "metadata": {},
   "outputs": [
    {
     "name": "stdout",
     "output_type": "stream",
     "text": [
      "0\n"
     ]
    }
   ],
   "source": [
    "\n",
    "current_chunk = 0 \n",
    "chunks = []\n",
    "for sentence in sentences:\n",
    "    if len(chunks) == current_chunk + 1: \n",
    "        if len(chunks[current_chunk]) + len(sentence.split(' ')) <= max_chunk:\n",
    "            chunks[current_chunk].extend(sentence.split(' '))\n",
    "        else:\n",
    "            current_chunk += 1\n",
    "            chunks.append(sentence.split(' '))\n",
    "    else:\n",
    "        print(current_chunk)\n",
    "        chunks.append(sentence.split(' '))\n",
    "\n",
    "for chunk_id in range(len(chunks)):\n",
    "    chunks[chunk_id] = ' '.join(chunks[chunk_id])"
   ]
  },
  {
   "cell_type": "code",
   "execution_count": 47,
   "id": "consolidated-snapshot",
   "metadata": {},
   "outputs": [
    {
     "data": {
      "text/plain": [
       "[\"React Clean Code Clean code is more than just working code.   Clean code is easy to read, simple to understand, and neatly organized.   In this article, we’ll look at eight ways we can write cleaner React code.   When going through these suggestions, it’s important to remember that’s exactly what they are: suggestions.   If you disagree with any of them, that’s completely fine.   However, these are practices that I’ve found helpful in writing my own React code.   Let’s dive in!   1.   Conditional Rendering Only for One Condition If you need to conditionally render something when a condition is true and not render anything when a condition is false, don’t use a ternary operator.   Use the && operator instead.   Bad example: Good example: 2.   Conditional Rendering on Either Condition If you need to conditionally render one thing when a condition is true and render a different thing when the condition is false, use a ternary operator.   Bad example: Good example: 3.   Boolean Props A truthy prop can be provided to a component with just the prop name without a value like this: myTruthyProp.   Writing it like myTruthyProp={true} is unnecessary.   Bad example: Good example: 4.   String Props A string prop value can be provided in double-quotes without the use of curly braces or backticks.   Bad example: Good example: 5.   Event Handler Functions If an event handler only takes a single argument for the Event object, you can just provide the function as the event handler like this: onChange={handleChange}.   You don't need to wrap the function in an anonymous function like this: onChange={e => handleChange(e)}.   Bad example: Good example: 6.   Passing Components As Props When passing a component as a prop to another component, you don’t need to wrap this passed component in a function if the component does not accept any props.   Bad example: Good example: 7.   Undefined Props Undefined props are excluded, so don’t worry about providing an undefined fallback if it's OK for the prop to be undefined.   Bad example: Good example: 8.   Setting State That Relies on the Previous State Always set state as a function of the previous state if the new state relies on the previous state.   React state updates can be batched, and not writing your updates this way can lead to unexpected results.   Bad example: Good example: Honorable Mentions The following practices are not React-specific but rather good practices for writing clean code in JavaScript (or any programming language, for that matter).   Happy coding!   Advice for programmers.   1.  1K  14  A weekly newsletter sent every Friday with the best articles we published that week.   Code tutorials, advice, career opportunities, and more!\",\n",
       " ' \\xa0Take a look.    By signing up, you will create a Medium account if you don’t already have one.   Review our Privacy Policy for more information about our privacy practices.   Check your inboxMedium sent you an email at  to complete your subscription.   Thanks to Anupam Chugh.  \\xa0 1.  1K\\xa0claps 1.  1K\\xa0claps 14 responses Written by Senior software engineer.   Continuous learner.   Educator.   http://tylerhawkins.  info Advice for programmers.   Written by Senior software engineer.   Continuous learner.   Educator.   http://tylerhawkins.  info Advice for programmers.   Medium is an open platform where 170 million readers come to find insightful and dynamic thinking.   Here, expert and undiscovered voices alike dive into the heart of any topic and bring new ideas to the surface.   Learn more Follow the writers, publications, and topics that matter to you, and you’ll see them on your homepage and in your inbox.   Explore If you have a story to tell, knowledge to share, or a perspective to offer — welcome home.   It’s easy and free to post your thinking on any topic.   Write on Medium About Help Legal Get the Medium app']"
      ]
     },
     "execution_count": 47,
     "metadata": {},
     "output_type": "execute_result"
    }
   ],
   "source": [
    "chunks"
   ]
  },
  {
   "cell_type": "code",
   "execution_count": 48,
   "id": "proved-plenty",
   "metadata": {},
   "outputs": [
    {
     "data": {
      "text/plain": [
       "\"React Clean Code Clean code is more than just working code.   Clean code is easy to read, simple to understand, and neatly organized.   In this article, we’ll look at eight ways we can write cleaner React code.   When going through these suggestions, it’s important to remember that’s exactly what they are: suggestions.   If you disagree with any of them, that’s completely fine.   However, these are practices that I’ve found helpful in writing my own React code.   Let’s dive in!   1.   Conditional Rendering Only for One Condition If you need to conditionally render something when a condition is true and not render anything when a condition is false, don’t use a ternary operator.   Use the && operator instead.   Bad example: Good example: 2.   Conditional Rendering on Either Condition If you need to conditionally render one thing when a condition is true and render a different thing when the condition is false, use a ternary operator.   Bad example: Good example: 3.   Boolean Props A truthy prop can be provided to a component with just the prop name without a value like this: myTruthyProp.   Writing it like myTruthyProp={true} is unnecessary.   Bad example: Good example: 4.   String Props A string prop value can be provided in double-quotes without the use of curly braces or backticks.   Bad example: Good example: 5.   Event Handler Functions If an event handler only takes a single argument for the Event object, you can just provide the function as the event handler like this: onChange={handleChange}.   You don't need to wrap the function in an anonymous function like this: onChange={e => handleChange(e)}.   Bad example: Good example: 6.   Passing Components As Props When passing a component as a prop to another component, you don’t need to wrap this passed component in a function if the component does not accept any props.   Bad example: Good example: 7.   Undefined Props Undefined props are excluded, so don’t worry about providing an undefined fallback if it's OK for the prop to be undefined.   Bad example: Good example: 8.   Setting State That Relies on the Previous State Always set state as a function of the previous state if the new state relies on the previous state.   React state updates can be batched, and not writing your updates this way can lead to unexpected results.   Bad example: Good example: Honorable Mentions The following practices are not React-specific but rather good practices for writing clean code in JavaScript (or any programming language, for that matter).   Happy coding!   Advice for programmers.   1.  1K  14  A weekly newsletter sent every Friday with the best articles we published that week.   Code tutorials, advice, career opportunities, and more!\""
      ]
     },
     "execution_count": 48,
     "metadata": {},
     "output_type": "execute_result"
    }
   ],
   "source": [
    "chunks[0]"
   ]
  },
  {
   "cell_type": "code",
   "execution_count": 49,
   "id": "hidden-chance",
   "metadata": {},
   "outputs": [
    {
     "data": {
      "text/plain": [
       "2"
      ]
     },
     "execution_count": 49,
     "metadata": {},
     "output_type": "execute_result"
    }
   ],
   "source": [
    "len(chunks)"
   ]
  },
  {
   "cell_type": "markdown",
   "id": "remarkable-porcelain",
   "metadata": {},
   "source": [
    "### Summarize Text"
   ]
  },
  {
   "cell_type": "code",
   "execution_count": 50,
   "id": "governing-cancellation",
   "metadata": {},
   "outputs": [],
   "source": [
    "res = summarizer(chunks, max_length=120, min_length=30, do_sample=False)"
   ]
  },
  {
   "cell_type": "code",
   "execution_count": 51,
   "id": "external-seafood",
   "metadata": {},
   "outputs": [
    {
     "data": {
      "text/plain": [
       "{'summary_text': ' Clean code is easy to read, simple to understand, and neatly organized . In this article, we’ll look at eight ways we can write cleaner React code . Conditional Rendering on either condition is true and render a different thing when the condition is false .'}"
      ]
     },
     "execution_count": 51,
     "metadata": {},
     "output_type": "execute_result"
    }
   ],
   "source": [
    "res[0]"
   ]
  },
  {
   "cell_type": "code",
   "execution_count": 52,
   "id": "political-philippines",
   "metadata": {},
   "outputs": [],
   "source": [
    "text = ' '.join([summ['summary_text'] for summ in res])"
   ]
  },
  {
   "cell_type": "markdown",
   "id": "usual-twist",
   "metadata": {},
   "source": [
    "### Output to Text File"
   ]
  },
  {
   "cell_type": "code",
   "execution_count": 53,
   "id": "about-sewing",
   "metadata": {},
   "outputs": [],
   "source": [
    "with open('blogsummary.txt', 'w') as f:\n",
    "    f.write(text)"
   ]
  },
  {
   "cell_type": "code",
   "execution_count": 55,
   "id": "spread-microwave",
   "metadata": {},
   "outputs": [
    {
     "name": "stdout",
     "output_type": "stream",
     "text": [
      "Done\n"
     ]
    }
   ],
   "source": [
    "print('Done')"
   ]
  },
  {
   "cell_type": "code",
   "execution_count": null,
   "id": "static-branch",
   "metadata": {},
   "outputs": [],
   "source": []
  }
 ],
 "metadata": {
  "kernelspec": {
   "display_name": "Python 3",
   "language": "python",
   "name": "python3"
  },
  "language_info": {
   "codemirror_mode": {
    "name": "ipython",
    "version": 3
   },
   "file_extension": ".py",
   "mimetype": "text/x-python",
   "name": "python",
   "nbconvert_exporter": "python",
   "pygments_lexer": "ipython3",
   "version": "3.8.5"
  }
 },
 "nbformat": 4,
 "nbformat_minor": 5
}
